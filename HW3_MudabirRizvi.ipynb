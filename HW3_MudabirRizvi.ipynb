{
    "metadata": {
        "kernelspec": {
            "name": "SQL",
            "display_name": "SQL",
            "language": "sql"
        },
        "language_info": {
            "name": "sql",
            "version": ""
        }
    },
    "nbformat_minor": 2,
    "nbformat": 4,
    "cells": [
        {
            "cell_type": "code",
            "source": [
                "--Question1: Write a query that returns all order placed on the last day\n",
                "--of activity that can be found in the Orders table\n",
                "\n",
                "use TSQLV4\n",
                "\n",
                "SELECT orderid, orderdate, custid, empid\n",
                "FROM Orders\n",
                "WHERE orderdate = (\n",
                "SELECT MAX(orderdate)\n",
                "FROM Orders\n",
                ")\n",
                "ORDER BY orderid DESC;\n",
                "\n",
                "\n",
                "\n",
                "--Question3: Write a query that returns employees\n",
                "-- who did not place orders on or after May 1st, 2016\n",
                "\n",
                "--Answer:\n",
                "SELECT e.empid, e.FirstName, e.lastname\n",
                "FROM HR.Employees e\n",
                "LEFT JOIN Orders o ON e.empid = o.empid\n",
                "AND o.orderdate >= '2016-05-01'\n",
                "WHERE o.orderid IS NULL\n",
                "\n",
                "\n",
                "\n",
                "--Question4: Write a query that returns\n",
                "-- countries where there are customers but not employees\n",
                "\n",
                "--Answer: \n",
                "SELECT DISTINCT C.Country\n",
                "FROM Sales.Customers C\n",
                "LEFT JOIN HR.Employees E ON C.Country = E.Country\n",
                "WHERE E.Country IS NULL;\n",
                "\n",
                "\n",
                "\n",
                "--Question5:Write a query that returns for each customer\n",
                "-- all orders placed on the customer's last day of activity\n",
                "\n",
                "--Answer:\n",
                "WITH LastActivity AS (\n",
                "SELECT c.custid, MAX(o.orderdate) AS last_activity_date        \n",
                "FROM Sales.Customers c\n",
                "JOIN Orders o ON c.custid = o.custid\n",
                "GROUP BY c.custid\n",
                ")\n",
                "SELECT la.custid,o.orderid, o.orderdate, o.empid\n",
                "FROM LastActivity la\n",
                "JOIN Orders o ON la.custid = o.custid AND la.last_activity_date = o.orderdate\n",
                "ORDER BY la.custid"
            ],
            "metadata": {
                "azdata_cell_guid": "f173a275-dd1e-4b97-b6db-3d2cc6ef9b8a",
                "language": "sql"
            },
            "outputs": [
                {
                    "output_type": "display_data",
                    "data": {
                        "text/html": "(4 rows affected)"
                    },
                    "metadata": {}
                },
                {
                    "output_type": "display_data",
                    "data": {
                        "text/html": "(4 rows affected)"
                    },
                    "metadata": {}
                },
                {
                    "output_type": "display_data",
                    "data": {
                        "text/html": "(19 rows affected)"
                    },
                    "metadata": {}
                },
                {
                    "output_type": "display_data",
                    "data": {
                        "text/html": "(90 rows affected)"
                    },
                    "metadata": {}
                },
                {
                    "output_type": "display_data",
                    "data": {
                        "text/html": "Total execution time: 00:00:00.030"
                    },
                    "metadata": {}
                },
                {
                    "output_type": "execute_result",
                    "metadata": {},
                    "execution_count": 3,
                    "data": {
                        "application/vnd.dataresource+json": {
                            "schema": {
                                "fields": [
                                    {
                                        "name": "orderid"
                                    },
                                    {
                                        "name": "orderdate"
                                    },
                                    {
                                        "name": "custid"
                                    },
                                    {
                                        "name": "empid"
                                    }
                                ]
                            },
                            "data": [
                                {
                                    "orderid": "11077",
                                    "orderdate": "2016-05-06",
                                    "custid": "65",
                                    "empid": "1"
                                },
                                {
                                    "orderid": "11076",
                                    "orderdate": "2016-05-06",
                                    "custid": "9",
                                    "empid": "4"
                                },
                                {
                                    "orderid": "11075",
                                    "orderdate": "2016-05-06",
                                    "custid": "68",
                                    "empid": "8"
                                },
                                {
                                    "orderid": "11074",
                                    "orderdate": "2016-05-06",
                                    "custid": "73",
                                    "empid": "7"
                                }
                            ]
                        },
                        "text/html": [
                            "<table>",
                            "<tr><th>orderid</th><th>orderdate</th><th>custid</th><th>empid</th></tr>",
                            "<tr><td>11077</td><td>2016-05-06</td><td>65</td><td>1</td></tr>",
                            "<tr><td>11076</td><td>2016-05-06</td><td>9</td><td>4</td></tr>",
                            "<tr><td>11075</td><td>2016-05-06</td><td>68</td><td>8</td></tr>",
                            "<tr><td>11074</td><td>2016-05-06</td><td>73</td><td>7</td></tr>",
                            "</table>"
                        ]
                    }
                },
                {
                    "output_type": "execute_result",
                    "metadata": {},
                    "execution_count": 3,
                    "data": {
                        "application/vnd.dataresource+json": {
                            "schema": {
                                "fields": [
                                    {
                                        "name": "empid"
                                    },
                                    {
                                        "name": "FirstName"
                                    },
                                    {
                                        "name": "lastname"
                                    }
                                ]
                            },
                            "data": [
                                {
                                    "empid": "3",
                                    "FirstName": "Judy",
                                    "lastname": "Lew"
                                },
                                {
                                    "empid": "5",
                                    "FirstName": "Sven",
                                    "lastname": "Mortensen"
                                },
                                {
                                    "empid": "6",
                                    "FirstName": "Paul",
                                    "lastname": "Suurs"
                                },
                                {
                                    "empid": "9",
                                    "FirstName": "Patricia",
                                    "lastname": "Doyle"
                                }
                            ]
                        },
                        "text/html": [
                            "<table>",
                            "<tr><th>empid</th><th>FirstName</th><th>lastname</th></tr>",
                            "<tr><td>3</td><td>Judy</td><td>Lew</td></tr>",
                            "<tr><td>5</td><td>Sven</td><td>Mortensen</td></tr>",
                            "<tr><td>6</td><td>Paul</td><td>Suurs</td></tr>",
                            "<tr><td>9</td><td>Patricia</td><td>Doyle</td></tr>",
                            "</table>"
                        ]
                    }
                },
                {
                    "output_type": "execute_result",
                    "metadata": {},
                    "execution_count": 3,
                    "data": {
                        "application/vnd.dataresource+json": {
                            "schema": {
                                "fields": [
                                    {
                                        "name": "Country"
                                    }
                                ]
                            },
                            "data": [
                                {
                                    "Country": "Argentina"
                                },
                                {
                                    "Country": "Austria"
                                },
                                {
                                    "Country": "Belgium"
                                },
                                {
                                    "Country": "Brazil"
                                },
                                {
                                    "Country": "Canada"
                                },
                                {
                                    "Country": "Denmark"
                                },
                                {
                                    "Country": "Finland"
                                },
                                {
                                    "Country": "France"
                                },
                                {
                                    "Country": "Germany"
                                },
                                {
                                    "Country": "Ireland"
                                },
                                {
                                    "Country": "Italy"
                                },
                                {
                                    "Country": "Mexico"
                                },
                                {
                                    "Country": "Norway"
                                },
                                {
                                    "Country": "Poland"
                                },
                                {
                                    "Country": "Portugal"
                                },
                                {
                                    "Country": "Spain"
                                },
                                {
                                    "Country": "Sweden"
                                },
                                {
                                    "Country": "Switzerland"
                                },
                                {
                                    "Country": "Venezuela"
                                }
                            ]
                        },
                        "text/html": [
                            "<table>",
                            "<tr><th>Country</th></tr>",
                            "<tr><td>Argentina</td></tr>",
                            "<tr><td>Austria</td></tr>",
                            "<tr><td>Belgium</td></tr>",
                            "<tr><td>Brazil</td></tr>",
                            "<tr><td>Canada</td></tr>",
                            "<tr><td>Denmark</td></tr>",
                            "<tr><td>Finland</td></tr>",
                            "<tr><td>France</td></tr>",
                            "<tr><td>Germany</td></tr>",
                            "<tr><td>Ireland</td></tr>",
                            "<tr><td>Italy</td></tr>",
                            "<tr><td>Mexico</td></tr>",
                            "<tr><td>Norway</td></tr>",
                            "<tr><td>Poland</td></tr>",
                            "<tr><td>Portugal</td></tr>",
                            "<tr><td>Spain</td></tr>",
                            "<tr><td>Sweden</td></tr>",
                            "<tr><td>Switzerland</td></tr>",
                            "<tr><td>Venezuela</td></tr>",
                            "</table>"
                        ]
                    }
                },
                {
                    "output_type": "execute_result",
                    "metadata": {},
                    "execution_count": 3,
                    "data": {
                        "application/vnd.dataresource+json": {
                            "schema": {
                                "fields": [
                                    {
                                        "name": "custid"
                                    },
                                    {
                                        "name": "orderid"
                                    },
                                    {
                                        "name": "orderdate"
                                    },
                                    {
                                        "name": "empid"
                                    }
                                ]
                            },
                            "data": [
                                {
                                    "custid": "1",
                                    "orderid": "11011",
                                    "orderdate": "2016-04-09",
                                    "empid": "3"
                                },
                                {
                                    "custid": "2",
                                    "orderid": "10926",
                                    "orderdate": "2016-03-04",
                                    "empid": "4"
                                },
                                {
                                    "custid": "3",
                                    "orderid": "10856",
                                    "orderdate": "2016-01-28",
                                    "empid": "3"
                                },
                                {
                                    "custid": "4",
                                    "orderid": "11016",
                                    "orderdate": "2016-04-10",
                                    "empid": "9"
                                },
                                {
                                    "custid": "5",
                                    "orderid": "10924",
                                    "orderdate": "2016-03-04",
                                    "empid": "3"
                                },
                                {
                                    "custid": "6",
                                    "orderid": "11058",
                                    "orderdate": "2016-04-29",
                                    "empid": "9"
                                },
                                {
                                    "custid": "7",
                                    "orderid": "10826",
                                    "orderdate": "2016-01-12",
                                    "empid": "6"
                                },
                                {
                                    "custid": "8",
                                    "orderid": "10970",
                                    "orderdate": "2016-03-24",
                                    "empid": "9"
                                },
                                {
                                    "custid": "9",
                                    "orderid": "11076",
                                    "orderdate": "2016-05-06",
                                    "empid": "4"
                                },
                                {
                                    "custid": "10",
                                    "orderid": "11048",
                                    "orderdate": "2016-04-24",
                                    "empid": "7"
                                },
                                {
                                    "custid": "11",
                                    "orderid": "11023",
                                    "orderdate": "2016-04-14",
                                    "empid": "1"
                                },
                                {
                                    "custid": "12",
                                    "orderid": "11054",
                                    "orderdate": "2016-04-28",
                                    "empid": "8"
                                },
                                {
                                    "custid": "13",
                                    "orderid": "10259",
                                    "orderdate": "2014-07-18",
                                    "empid": "4"
                                },
                                {
                                    "custid": "14",
                                    "orderid": "11041",
                                    "orderdate": "2016-04-22",
                                    "empid": "3"
                                },
                                {
                                    "custid": "15",
                                    "orderid": "11042",
                                    "orderdate": "2016-04-22",
                                    "empid": "2"
                                },
                                {
                                    "custid": "16",
                                    "orderid": "10848",
                                    "orderdate": "2016-01-23",
                                    "empid": "7"
                                },
                                {
                                    "custid": "17",
                                    "orderid": "11067",
                                    "orderdate": "2016-05-04",
                                    "empid": "1"
                                },
                                {
                                    "custid": "18",
                                    "orderid": "10890",
                                    "orderdate": "2016-02-16",
                                    "empid": "7"
                                },
                                {
                                    "custid": "19",
                                    "orderid": "11056",
                                    "orderdate": "2016-04-28",
                                    "empid": "8"
                                },
                                {
                                    "custid": "20",
                                    "orderid": "11072",
                                    "orderdate": "2016-05-05",
                                    "empid": "4"
                                },
                                {
                                    "custid": "21",
                                    "orderid": "10725",
                                    "orderdate": "2015-10-31",
                                    "empid": "4"
                                },
                                {
                                    "custid": "23",
                                    "orderid": "10789",
                                    "orderdate": "2015-12-22",
                                    "empid": "1"
                                },
                                {
                                    "custid": "24",
                                    "orderid": "11050",
                                    "orderdate": "2016-04-27",
                                    "empid": "8"
                                },
                                {
                                    "custid": "25",
                                    "orderid": "11012",
                                    "orderdate": "2016-04-09",
                                    "empid": "1"
                                },
                                {
                                    "custid": "26",
                                    "orderid": "10971",
                                    "orderdate": "2016-03-24",
                                    "empid": "2"
                                },
                                {
                                    "custid": "27",
                                    "orderid": "11060",
                                    "orderdate": "2016-04-30",
                                    "empid": "2"
                                },
                                {
                                    "custid": "28",
                                    "orderid": "10963",
                                    "orderdate": "2016-03-19",
                                    "empid": "9"
                                },
                                {
                                    "custid": "29",
                                    "orderid": "10928",
                                    "orderdate": "2016-03-05",
                                    "empid": "1"
                                },
                                {
                                    "custid": "30",
                                    "orderid": "11037",
                                    "orderdate": "2016-04-21",
                                    "empid": "7"
                                },
                                {
                                    "custid": "31",
                                    "orderid": "11049",
                                    "orderdate": "2016-04-24",
                                    "empid": "3"
                                },
                                {
                                    "custid": "32",
                                    "orderid": "11061",
                                    "orderdate": "2016-04-30",
                                    "empid": "4"
                                },
                                {
                                    "custid": "33",
                                    "orderid": "10785",
                                    "orderdate": "2015-12-18",
                                    "empid": "1"
                                },
                                {
                                    "custid": "34",
                                    "orderid": "11052",
                                    "orderdate": "2016-04-27",
                                    "empid": "3"
                                },
                                {
                                    "custid": "35",
                                    "orderid": "11055",
                                    "orderdate": "2016-04-28",
                                    "empid": "7"
                                },
                                {
                                    "custid": "36",
                                    "orderid": "10660",
                                    "orderdate": "2015-09-08",
                                    "empid": "8"
                                },
                                {
                                    "custid": "37",
                                    "orderid": "11063",
                                    "orderdate": "2016-04-30",
                                    "empid": "3"
                                },
                                {
                                    "custid": "38",
                                    "orderid": "10933",
                                    "orderdate": "2016-03-06",
                                    "empid": "6"
                                },
                                {
                                    "custid": "39",
                                    "orderid": "11028",
                                    "orderdate": "2016-04-16",
                                    "empid": "2"
                                },
                                {
                                    "custid": "40",
                                    "orderid": "10972",
                                    "orderdate": "2016-03-24",
                                    "empid": "4"
                                },
                                {
                                    "custid": "40",
                                    "orderid": "10973",
                                    "orderdate": "2016-03-24",
                                    "empid": "6"
                                },
                                {
                                    "custid": "41",
                                    "orderid": "11051",
                                    "orderdate": "2016-04-27",
                                    "empid": "7"
                                },
                                {
                                    "custid": "42",
                                    "orderid": "10810",
                                    "orderdate": "2016-01-01",
                                    "empid": "2"
                                },
                                {
                                    "custid": "43",
                                    "orderid": "10545",
                                    "orderdate": "2015-05-22",
                                    "empid": "8"
                                },
                                {
                                    "custid": "44",
                                    "orderid": "11070",
                                    "orderdate": "2016-05-05",
                                    "empid": "2"
                                },
                                {
                                    "custid": "45",
                                    "orderid": "10884",
                                    "orderdate": "2016-02-12",
                                    "empid": "4"
                                },
                                {
                                    "custid": "46",
                                    "orderid": "11071",
                                    "orderdate": "2016-05-05",
                                    "empid": "1"
                                },
                                {
                                    "custid": "47",
                                    "orderid": "11039",
                                    "orderdate": "2016-04-21",
                                    "empid": "1"
                                },
                                {
                                    "custid": "48",
                                    "orderid": "11018",
                                    "orderdate": "2016-04-13",
                                    "empid": "4"
                                },
                                {
                                    "custid": "49",
                                    "orderid": "10950",
                                    "orderdate": "2016-03-16",
                                    "empid": "1"
                                },
                                {
                                    "custid": "50",
                                    "orderid": "11004",
                                    "orderdate": "2016-04-07",
                                    "empid": "3"
                                },
                                {
                                    "custid": "51",
                                    "orderid": "10724",
                                    "orderdate": "2015-10-30",
                                    "empid": "8"
                                },
                                {
                                    "custid": "52",
                                    "orderid": "10945",
                                    "orderdate": "2016-03-12",
                                    "empid": "4"
                                },
                                {
                                    "custid": "53",
                                    "orderid": "11057",
                                    "orderdate": "2016-04-29",
                                    "empid": "3"
                                },
                                {
                                    "custid": "54",
                                    "orderid": "10986",
                                    "orderdate": "2016-03-30",
                                    "empid": "8"
                                },
                                {
                                    "custid": "55",
                                    "orderid": "11034",
                                    "orderdate": "2016-04-20",
                                    "empid": "8"
                                },
                                {
                                    "custid": "56",
                                    "orderid": "11020",
                                    "orderdate": "2016-04-14",
                                    "empid": "2"
                                },
                                {
                                    "custid": "58",
                                    "orderid": "11073",
                                    "orderdate": "2016-05-05",
                                    "empid": "2"
                                },
                                {
                                    "custid": "59",
                                    "orderid": "11053",
                                    "orderdate": "2016-04-27",
                                    "empid": "2"
                                },
                                {
                                    "custid": "60",
                                    "orderid": "11007",
                                    "orderdate": "2016-04-08",
                                    "empid": "8"
                                },
                                {
                                    "custid": "61",
                                    "orderid": "10989",
                                    "orderdate": "2016-03-31",
                                    "empid": "2"
                                },
                                {
                                    "custid": "62",
                                    "orderid": "11068",
                                    "orderdate": "2016-05-04",
                                    "empid": "8"
                                },
                                {
                                    "custid": "63",
                                    "orderid": "11021",
                                    "orderdate": "2016-04-14",
                                    "empid": "3"
                                },
                                {
                                    "custid": "64",
                                    "orderid": "11019",
                                    "orderdate": "2016-04-13",
                                    "empid": "6"
                                },
                                {
                                    "custid": "65",
                                    "orderid": "11077",
                                    "orderdate": "2016-05-06",
                                    "empid": "1"
                                },
                                {
                                    "custid": "66",
                                    "orderid": "11062",
                                    "orderdate": "2016-04-30",
                                    "empid": "4"
                                },
                                {
                                    "custid": "67",
                                    "orderid": "11059",
                                    "orderdate": "2016-04-29",
                                    "empid": "2"
                                },
                                {
                                    "custid": "68",
                                    "orderid": "11075",
                                    "orderdate": "2016-05-06",
                                    "empid": "8"
                                },
                                {
                                    "custid": "69",
                                    "orderid": "11013",
                                    "orderdate": "2016-04-09",
                                    "empid": "2"
                                },
                                {
                                    "custid": "70",
                                    "orderid": "11015",
                                    "orderdate": "2016-04-10",
                                    "empid": "2"
                                },
                                {
                                    "custid": "71",
                                    "orderid": "11064",
                                    "orderdate": "2016-05-01",
                                    "empid": "1"
                                },
                                {
                                    "custid": "72",
                                    "orderid": "10869",
                                    "orderdate": "2016-02-04",
                                    "empid": "5"
                                },
                                {
                                    "custid": "73",
                                    "orderid": "11074",
                                    "orderdate": "2016-05-06",
                                    "empid": "7"
                                },
                                {
                                    "custid": "74",
                                    "orderid": "11043",
                                    "orderdate": "2016-04-22",
                                    "empid": "5"
                                },
                                {
                                    "custid": "75",
                                    "orderid": "10974",
                                    "orderdate": "2016-03-25",
                                    "empid": "3"
                                },
                                {
                                    "custid": "76",
                                    "orderid": "11038",
                                    "orderdate": "2016-04-21",
                                    "empid": "1"
                                },
                                {
                                    "custid": "77",
                                    "orderid": "10992",
                                    "orderdate": "2016-04-01",
                                    "empid": "1"
                                },
                                {
                                    "custid": "78",
                                    "orderid": "11003",
                                    "orderdate": "2016-04-06",
                                    "empid": "3"
                                },
                                {
                                    "custid": "79",
                                    "orderid": "10967",
                                    "orderdate": "2016-03-23",
                                    "empid": "2"
                                },
                                {
                                    "custid": "80",
                                    "orderid": "11069",
                                    "orderdate": "2016-05-04",
                                    "empid": "1"
                                },
                                {
                                    "custid": "81",
                                    "orderid": "10839",
                                    "orderdate": "2016-01-19",
                                    "empid": "3"
                                },
                                {
                                    "custid": "82",
                                    "orderid": "10822",
                                    "orderdate": "2016-01-08",
                                    "empid": "6"
                                },
                                {
                                    "custid": "83",
                                    "orderid": "10994",
                                    "orderdate": "2016-04-02",
                                    "empid": "2"
                                },
                                {
                                    "custid": "84",
                                    "orderid": "10850",
                                    "orderdate": "2016-01-23",
                                    "empid": "1"
                                },
                                {
                                    "custid": "85",
                                    "orderid": "10739",
                                    "orderdate": "2015-11-12",
                                    "empid": "3"
                                },
                                {
                                    "custid": "86",
                                    "orderid": "11046",
                                    "orderdate": "2016-04-23",
                                    "empid": "8"
                                },
                                {
                                    "custid": "87",
                                    "orderid": "11025",
                                    "orderdate": "2016-04-15",
                                    "empid": "6"
                                },
                                {
                                    "custid": "88",
                                    "orderid": "10935",
                                    "orderdate": "2016-03-09",
                                    "empid": "4"
                                },
                                {
                                    "custid": "89",
                                    "orderid": "11066",
                                    "orderdate": "2016-05-01",
                                    "empid": "7"
                                },
                                {
                                    "custid": "90",
                                    "orderid": "11005",
                                    "orderdate": "2016-04-07",
                                    "empid": "2"
                                },
                                {
                                    "custid": "91",
                                    "orderid": "11044",
                                    "orderdate": "2016-04-23",
                                    "empid": "4"
                                }
                            ]
                        },
                        "text/html": [
                            "<table>",
                            "<tr><th>custid</th><th>orderid</th><th>orderdate</th><th>empid</th></tr>",
                            "<tr><td>1</td><td>11011</td><td>2016-04-09</td><td>3</td></tr>",
                            "<tr><td>2</td><td>10926</td><td>2016-03-04</td><td>4</td></tr>",
                            "<tr><td>3</td><td>10856</td><td>2016-01-28</td><td>3</td></tr>",
                            "<tr><td>4</td><td>11016</td><td>2016-04-10</td><td>9</td></tr>",
                            "<tr><td>5</td><td>10924</td><td>2016-03-04</td><td>3</td></tr>",
                            "<tr><td>6</td><td>11058</td><td>2016-04-29</td><td>9</td></tr>",
                            "<tr><td>7</td><td>10826</td><td>2016-01-12</td><td>6</td></tr>",
                            "<tr><td>8</td><td>10970</td><td>2016-03-24</td><td>9</td></tr>",
                            "<tr><td>9</td><td>11076</td><td>2016-05-06</td><td>4</td></tr>",
                            "<tr><td>10</td><td>11048</td><td>2016-04-24</td><td>7</td></tr>",
                            "<tr><td>11</td><td>11023</td><td>2016-04-14</td><td>1</td></tr>",
                            "<tr><td>12</td><td>11054</td><td>2016-04-28</td><td>8</td></tr>",
                            "<tr><td>13</td><td>10259</td><td>2014-07-18</td><td>4</td></tr>",
                            "<tr><td>14</td><td>11041</td><td>2016-04-22</td><td>3</td></tr>",
                            "<tr><td>15</td><td>11042</td><td>2016-04-22</td><td>2</td></tr>",
                            "<tr><td>16</td><td>10848</td><td>2016-01-23</td><td>7</td></tr>",
                            "<tr><td>17</td><td>11067</td><td>2016-05-04</td><td>1</td></tr>",
                            "<tr><td>18</td><td>10890</td><td>2016-02-16</td><td>7</td></tr>",
                            "<tr><td>19</td><td>11056</td><td>2016-04-28</td><td>8</td></tr>",
                            "<tr><td>20</td><td>11072</td><td>2016-05-05</td><td>4</td></tr>",
                            "<tr><td>21</td><td>10725</td><td>2015-10-31</td><td>4</td></tr>",
                            "<tr><td>23</td><td>10789</td><td>2015-12-22</td><td>1</td></tr>",
                            "<tr><td>24</td><td>11050</td><td>2016-04-27</td><td>8</td></tr>",
                            "<tr><td>25</td><td>11012</td><td>2016-04-09</td><td>1</td></tr>",
                            "<tr><td>26</td><td>10971</td><td>2016-03-24</td><td>2</td></tr>",
                            "<tr><td>27</td><td>11060</td><td>2016-04-30</td><td>2</td></tr>",
                            "<tr><td>28</td><td>10963</td><td>2016-03-19</td><td>9</td></tr>",
                            "<tr><td>29</td><td>10928</td><td>2016-03-05</td><td>1</td></tr>",
                            "<tr><td>30</td><td>11037</td><td>2016-04-21</td><td>7</td></tr>",
                            "<tr><td>31</td><td>11049</td><td>2016-04-24</td><td>3</td></tr>",
                            "<tr><td>32</td><td>11061</td><td>2016-04-30</td><td>4</td></tr>",
                            "<tr><td>33</td><td>10785</td><td>2015-12-18</td><td>1</td></tr>",
                            "<tr><td>34</td><td>11052</td><td>2016-04-27</td><td>3</td></tr>",
                            "<tr><td>35</td><td>11055</td><td>2016-04-28</td><td>7</td></tr>",
                            "<tr><td>36</td><td>10660</td><td>2015-09-08</td><td>8</td></tr>",
                            "<tr><td>37</td><td>11063</td><td>2016-04-30</td><td>3</td></tr>",
                            "<tr><td>38</td><td>10933</td><td>2016-03-06</td><td>6</td></tr>",
                            "<tr><td>39</td><td>11028</td><td>2016-04-16</td><td>2</td></tr>",
                            "<tr><td>40</td><td>10972</td><td>2016-03-24</td><td>4</td></tr>",
                            "<tr><td>40</td><td>10973</td><td>2016-03-24</td><td>6</td></tr>",
                            "<tr><td>41</td><td>11051</td><td>2016-04-27</td><td>7</td></tr>",
                            "<tr><td>42</td><td>10810</td><td>2016-01-01</td><td>2</td></tr>",
                            "<tr><td>43</td><td>10545</td><td>2015-05-22</td><td>8</td></tr>",
                            "<tr><td>44</td><td>11070</td><td>2016-05-05</td><td>2</td></tr>",
                            "<tr><td>45</td><td>10884</td><td>2016-02-12</td><td>4</td></tr>",
                            "<tr><td>46</td><td>11071</td><td>2016-05-05</td><td>1</td></tr>",
                            "<tr><td>47</td><td>11039</td><td>2016-04-21</td><td>1</td></tr>",
                            "<tr><td>48</td><td>11018</td><td>2016-04-13</td><td>4</td></tr>",
                            "<tr><td>49</td><td>10950</td><td>2016-03-16</td><td>1</td></tr>",
                            "<tr><td>50</td><td>11004</td><td>2016-04-07</td><td>3</td></tr>",
                            "<tr><td>51</td><td>10724</td><td>2015-10-30</td><td>8</td></tr>",
                            "<tr><td>52</td><td>10945</td><td>2016-03-12</td><td>4</td></tr>",
                            "<tr><td>53</td><td>11057</td><td>2016-04-29</td><td>3</td></tr>",
                            "<tr><td>54</td><td>10986</td><td>2016-03-30</td><td>8</td></tr>",
                            "<tr><td>55</td><td>11034</td><td>2016-04-20</td><td>8</td></tr>",
                            "<tr><td>56</td><td>11020</td><td>2016-04-14</td><td>2</td></tr>",
                            "<tr><td>58</td><td>11073</td><td>2016-05-05</td><td>2</td></tr>",
                            "<tr><td>59</td><td>11053</td><td>2016-04-27</td><td>2</td></tr>",
                            "<tr><td>60</td><td>11007</td><td>2016-04-08</td><td>8</td></tr>",
                            "<tr><td>61</td><td>10989</td><td>2016-03-31</td><td>2</td></tr>",
                            "<tr><td>62</td><td>11068</td><td>2016-05-04</td><td>8</td></tr>",
                            "<tr><td>63</td><td>11021</td><td>2016-04-14</td><td>3</td></tr>",
                            "<tr><td>64</td><td>11019</td><td>2016-04-13</td><td>6</td></tr>",
                            "<tr><td>65</td><td>11077</td><td>2016-05-06</td><td>1</td></tr>",
                            "<tr><td>66</td><td>11062</td><td>2016-04-30</td><td>4</td></tr>",
                            "<tr><td>67</td><td>11059</td><td>2016-04-29</td><td>2</td></tr>",
                            "<tr><td>68</td><td>11075</td><td>2016-05-06</td><td>8</td></tr>",
                            "<tr><td>69</td><td>11013</td><td>2016-04-09</td><td>2</td></tr>",
                            "<tr><td>70</td><td>11015</td><td>2016-04-10</td><td>2</td></tr>",
                            "<tr><td>71</td><td>11064</td><td>2016-05-01</td><td>1</td></tr>",
                            "<tr><td>72</td><td>10869</td><td>2016-02-04</td><td>5</td></tr>",
                            "<tr><td>73</td><td>11074</td><td>2016-05-06</td><td>7</td></tr>",
                            "<tr><td>74</td><td>11043</td><td>2016-04-22</td><td>5</td></tr>",
                            "<tr><td>75</td><td>10974</td><td>2016-03-25</td><td>3</td></tr>",
                            "<tr><td>76</td><td>11038</td><td>2016-04-21</td><td>1</td></tr>",
                            "<tr><td>77</td><td>10992</td><td>2016-04-01</td><td>1</td></tr>",
                            "<tr><td>78</td><td>11003</td><td>2016-04-06</td><td>3</td></tr>",
                            "<tr><td>79</td><td>10967</td><td>2016-03-23</td><td>2</td></tr>",
                            "<tr><td>80</td><td>11069</td><td>2016-05-04</td><td>1</td></tr>",
                            "<tr><td>81</td><td>10839</td><td>2016-01-19</td><td>3</td></tr>",
                            "<tr><td>82</td><td>10822</td><td>2016-01-08</td><td>6</td></tr>",
                            "<tr><td>83</td><td>10994</td><td>2016-04-02</td><td>2</td></tr>",
                            "<tr><td>84</td><td>10850</td><td>2016-01-23</td><td>1</td></tr>",
                            "<tr><td>85</td><td>10739</td><td>2015-11-12</td><td>3</td></tr>",
                            "<tr><td>86</td><td>11046</td><td>2016-04-23</td><td>8</td></tr>",
                            "<tr><td>87</td><td>11025</td><td>2016-04-15</td><td>6</td></tr>",
                            "<tr><td>88</td><td>10935</td><td>2016-03-09</td><td>4</td></tr>",
                            "<tr><td>89</td><td>11066</td><td>2016-05-01</td><td>7</td></tr>",
                            "<tr><td>90</td><td>11005</td><td>2016-04-07</td><td>2</td></tr>",
                            "<tr><td>91</td><td>11044</td><td>2016-04-23</td><td>4</td></tr>",
                            "</table>"
                        ]
                    }
                }
            ],
            "execution_count": 3
        },
        {
            "cell_type": "markdown",
            "source": [
                "Question9: Explain the difference between IN and EXISTS"
            ],
            "metadata": {
                "azdata_cell_guid": "8e944757-891f-45d7-95d5-6fe867df7aaf"
            }
        },
        {
            "cell_type": "markdown",
            "source": [
                "Answer:\"IN\" filters rows whether a value matches any value in subquery or list of values\n",
                "\n",
                "\"Exist\" is used to check for existence of rows in subquery,returns true if subquery returns at least one row"
            ],
            "metadata": {
                "azdata_cell_guid": "68daed7e-1a98-4836-b4a8-a478e5d33737"
            },
            "attachments": {}
        },
        {
            "cell_type": "markdown",
            "source": [
                "ChatGPT Explain like 5 year old Answer:\n",
                "\n",
                "**IN** is like looking at a plate of cookies and saying, \"I want the chocolate chip one.\" If the chocolate chip cookie is on the plate, you can have it.\n",
                "\n",
                "**EXISTS** is like peeking into a toy box to see if your favorite toy is in there. If it's there, you can play with it."
            ],
            "metadata": {
                "azdata_cell_guid": "8430e932-ee7a-432e-9fa2-7f3695a6f602"
            },
            "attachments": {}
        },
        {
            "cell_type": "markdown",
            "source": [
                "So, **IN** helps you pick something from a group, and **EXISTS** tells you if something is there or not in your special hiding spot."
            ],
            "metadata": {
                "azdata_cell_guid": "675a0efe-53a6-4ced-a28c-f6ca20f36783"
            }
        }
    ]
}