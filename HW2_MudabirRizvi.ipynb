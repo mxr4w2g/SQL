{
    "metadata": {
        "kernelspec": {
            "name": "SQL",
            "display_name": "SQL",
            "language": "sql"
        },
        "language_info": {
            "name": "sql",
            "version": ""
        }
    },
    "nbformat_minor": 2,
    "nbformat": 4,
    "cells": [
        {
            "cell_type": "code",
            "source": [
                "use TSQLV4\n",
                "\n",
                "--Question 1: Write a query that generates 5 copies out of each employee row\n",
                "-- Tables involved: TSQLV4 database, Employees and Nums tables\n",
                "\n",
                "--Answer:\n",
                "select empid,firstname,lastname,n from HR.Employees cross join dbo.Nums\n",
                "where n<=5\n",
                "order by n\n",
                "\n",
                "\n",
                "\n",
                "--Question 1-2:Write a query that returns a row for each employee and day \n",
                "--in the range June 12, 2016 � June 16 2016.\n",
                "--Tables involved: TSQLV4 database, Employees and Nums tables\n",
                "\n",
                "--Answer:\n",
                "select empid,DATEADD(DAY, n, '2016-06-11') AS dt\n",
                "\n",
                "from HR.Employees cross join dbo.Nums n\n",
                "\n",
                "where DATEADD(DAY, n, '2016-06-11') BETWEEN '2016-06-11' AND '2016-06-16'\n",
                "\n",
                "order by empid,dt;"
            ],
            "metadata": {
                "azdata_cell_guid": "08d17407-caed-4782-95e2-13e389a92f27",
                "language": "sql"
            },
            "outputs": [
                {
                    "output_type": "display_data",
                    "data": {
                        "text/html": "(45 rows affected)"
                    },
                    "metadata": {}
                },
                {
                    "output_type": "display_data",
                    "data": {
                        "text/html": "(45 rows affected)"
                    },
                    "metadata": {}
                },
                {
                    "output_type": "display_data",
                    "data": {
                        "text/html": "Total execution time: 00:00:00.049"
                    },
                    "metadata": {}
                },
                {
                    "output_type": "execute_result",
                    "execution_count": 5,
                    "data": {
                        "application/vnd.dataresource+json": {
                            "schema": {
                                "fields": [
                                    {
                                        "name": "empid"
                                    },
                                    {
                                        "name": "firstname"
                                    },
                                    {
                                        "name": "lastname"
                                    },
                                    {
                                        "name": "n"
                                    }
                                ]
                            },
                            "data": [
                                {
                                    "empid": "1",
                                    "firstname": "Sara",
                                    "lastname": "Davis",
                                    "n": "1"
                                },
                                {
                                    "empid": "2",
                                    "firstname": "Don",
                                    "lastname": "Funk",
                                    "n": "1"
                                },
                                {
                                    "empid": "3",
                                    "firstname": "Judy",
                                    "lastname": "Lew",
                                    "n": "1"
                                },
                                {
                                    "empid": "4",
                                    "firstname": "Yael",
                                    "lastname": "Peled",
                                    "n": "1"
                                },
                                {
                                    "empid": "5",
                                    "firstname": "Sven",
                                    "lastname": "Mortensen",
                                    "n": "1"
                                },
                                {
                                    "empid": "6",
                                    "firstname": "Paul",
                                    "lastname": "Suurs",
                                    "n": "1"
                                },
                                {
                                    "empid": "7",
                                    "firstname": "Russell",
                                    "lastname": "King",
                                    "n": "1"
                                },
                                {
                                    "empid": "8",
                                    "firstname": "Maria",
                                    "lastname": "Cameron",
                                    "n": "1"
                                },
                                {
                                    "empid": "9",
                                    "firstname": "Patricia",
                                    "lastname": "Doyle",
                                    "n": "1"
                                },
                                {
                                    "empid": "1",
                                    "firstname": "Sara",
                                    "lastname": "Davis",
                                    "n": "2"
                                },
                                {
                                    "empid": "2",
                                    "firstname": "Don",
                                    "lastname": "Funk",
                                    "n": "2"
                                },
                                {
                                    "empid": "3",
                                    "firstname": "Judy",
                                    "lastname": "Lew",
                                    "n": "2"
                                },
                                {
                                    "empid": "4",
                                    "firstname": "Yael",
                                    "lastname": "Peled",
                                    "n": "2"
                                },
                                {
                                    "empid": "5",
                                    "firstname": "Sven",
                                    "lastname": "Mortensen",
                                    "n": "2"
                                },
                                {
                                    "empid": "6",
                                    "firstname": "Paul",
                                    "lastname": "Suurs",
                                    "n": "2"
                                },
                                {
                                    "empid": "7",
                                    "firstname": "Russell",
                                    "lastname": "King",
                                    "n": "2"
                                },
                                {
                                    "empid": "8",
                                    "firstname": "Maria",
                                    "lastname": "Cameron",
                                    "n": "2"
                                },
                                {
                                    "empid": "9",
                                    "firstname": "Patricia",
                                    "lastname": "Doyle",
                                    "n": "2"
                                },
                                {
                                    "empid": "1",
                                    "firstname": "Sara",
                                    "lastname": "Davis",
                                    "n": "3"
                                },
                                {
                                    "empid": "2",
                                    "firstname": "Don",
                                    "lastname": "Funk",
                                    "n": "3"
                                },
                                {
                                    "empid": "3",
                                    "firstname": "Judy",
                                    "lastname": "Lew",
                                    "n": "3"
                                },
                                {
                                    "empid": "4",
                                    "firstname": "Yael",
                                    "lastname": "Peled",
                                    "n": "3"
                                },
                                {
                                    "empid": "5",
                                    "firstname": "Sven",
                                    "lastname": "Mortensen",
                                    "n": "3"
                                },
                                {
                                    "empid": "6",
                                    "firstname": "Paul",
                                    "lastname": "Suurs",
                                    "n": "3"
                                },
                                {
                                    "empid": "7",
                                    "firstname": "Russell",
                                    "lastname": "King",
                                    "n": "3"
                                },
                                {
                                    "empid": "8",
                                    "firstname": "Maria",
                                    "lastname": "Cameron",
                                    "n": "3"
                                },
                                {
                                    "empid": "9",
                                    "firstname": "Patricia",
                                    "lastname": "Doyle",
                                    "n": "3"
                                },
                                {
                                    "empid": "1",
                                    "firstname": "Sara",
                                    "lastname": "Davis",
                                    "n": "4"
                                },
                                {
                                    "empid": "2",
                                    "firstname": "Don",
                                    "lastname": "Funk",
                                    "n": "4"
                                },
                                {
                                    "empid": "3",
                                    "firstname": "Judy",
                                    "lastname": "Lew",
                                    "n": "4"
                                },
                                {
                                    "empid": "4",
                                    "firstname": "Yael",
                                    "lastname": "Peled",
                                    "n": "4"
                                },
                                {
                                    "empid": "5",
                                    "firstname": "Sven",
                                    "lastname": "Mortensen",
                                    "n": "4"
                                },
                                {
                                    "empid": "6",
                                    "firstname": "Paul",
                                    "lastname": "Suurs",
                                    "n": "4"
                                },
                                {
                                    "empid": "7",
                                    "firstname": "Russell",
                                    "lastname": "King",
                                    "n": "4"
                                },
                                {
                                    "empid": "8",
                                    "firstname": "Maria",
                                    "lastname": "Cameron",
                                    "n": "4"
                                },
                                {
                                    "empid": "9",
                                    "firstname": "Patricia",
                                    "lastname": "Doyle",
                                    "n": "4"
                                },
                                {
                                    "empid": "1",
                                    "firstname": "Sara",
                                    "lastname": "Davis",
                                    "n": "5"
                                },
                                {
                                    "empid": "2",
                                    "firstname": "Don",
                                    "lastname": "Funk",
                                    "n": "5"
                                },
                                {
                                    "empid": "3",
                                    "firstname": "Judy",
                                    "lastname": "Lew",
                                    "n": "5"
                                },
                                {
                                    "empid": "4",
                                    "firstname": "Yael",
                                    "lastname": "Peled",
                                    "n": "5"
                                },
                                {
                                    "empid": "5",
                                    "firstname": "Sven",
                                    "lastname": "Mortensen",
                                    "n": "5"
                                },
                                {
                                    "empid": "6",
                                    "firstname": "Paul",
                                    "lastname": "Suurs",
                                    "n": "5"
                                },
                                {
                                    "empid": "7",
                                    "firstname": "Russell",
                                    "lastname": "King",
                                    "n": "5"
                                },
                                {
                                    "empid": "8",
                                    "firstname": "Maria",
                                    "lastname": "Cameron",
                                    "n": "5"
                                },
                                {
                                    "empid": "9",
                                    "firstname": "Patricia",
                                    "lastname": "Doyle",
                                    "n": "5"
                                }
                            ]
                        },
                        "text/html": "<table><tr><th>empid</th><th>firstname</th><th>lastname</th><th>n</th></tr><tr><td>1</td><td>Sara</td><td>Davis</td><td>1</td></tr><tr><td>2</td><td>Don</td><td>Funk</td><td>1</td></tr><tr><td>3</td><td>Judy</td><td>Lew</td><td>1</td></tr><tr><td>4</td><td>Yael</td><td>Peled</td><td>1</td></tr><tr><td>5</td><td>Sven</td><td>Mortensen</td><td>1</td></tr><tr><td>6</td><td>Paul</td><td>Suurs</td><td>1</td></tr><tr><td>7</td><td>Russell</td><td>King</td><td>1</td></tr><tr><td>8</td><td>Maria</td><td>Cameron</td><td>1</td></tr><tr><td>9</td><td>Patricia</td><td>Doyle</td><td>1</td></tr><tr><td>1</td><td>Sara</td><td>Davis</td><td>2</td></tr><tr><td>2</td><td>Don</td><td>Funk</td><td>2</td></tr><tr><td>3</td><td>Judy</td><td>Lew</td><td>2</td></tr><tr><td>4</td><td>Yael</td><td>Peled</td><td>2</td></tr><tr><td>5</td><td>Sven</td><td>Mortensen</td><td>2</td></tr><tr><td>6</td><td>Paul</td><td>Suurs</td><td>2</td></tr><tr><td>7</td><td>Russell</td><td>King</td><td>2</td></tr><tr><td>8</td><td>Maria</td><td>Cameron</td><td>2</td></tr><tr><td>9</td><td>Patricia</td><td>Doyle</td><td>2</td></tr><tr><td>1</td><td>Sara</td><td>Davis</td><td>3</td></tr><tr><td>2</td><td>Don</td><td>Funk</td><td>3</td></tr><tr><td>3</td><td>Judy</td><td>Lew</td><td>3</td></tr><tr><td>4</td><td>Yael</td><td>Peled</td><td>3</td></tr><tr><td>5</td><td>Sven</td><td>Mortensen</td><td>3</td></tr><tr><td>6</td><td>Paul</td><td>Suurs</td><td>3</td></tr><tr><td>7</td><td>Russell</td><td>King</td><td>3</td></tr><tr><td>8</td><td>Maria</td><td>Cameron</td><td>3</td></tr><tr><td>9</td><td>Patricia</td><td>Doyle</td><td>3</td></tr><tr><td>1</td><td>Sara</td><td>Davis</td><td>4</td></tr><tr><td>2</td><td>Don</td><td>Funk</td><td>4</td></tr><tr><td>3</td><td>Judy</td><td>Lew</td><td>4</td></tr><tr><td>4</td><td>Yael</td><td>Peled</td><td>4</td></tr><tr><td>5</td><td>Sven</td><td>Mortensen</td><td>4</td></tr><tr><td>6</td><td>Paul</td><td>Suurs</td><td>4</td></tr><tr><td>7</td><td>Russell</td><td>King</td><td>4</td></tr><tr><td>8</td><td>Maria</td><td>Cameron</td><td>4</td></tr><tr><td>9</td><td>Patricia</td><td>Doyle</td><td>4</td></tr><tr><td>1</td><td>Sara</td><td>Davis</td><td>5</td></tr><tr><td>2</td><td>Don</td><td>Funk</td><td>5</td></tr><tr><td>3</td><td>Judy</td><td>Lew</td><td>5</td></tr><tr><td>4</td><td>Yael</td><td>Peled</td><td>5</td></tr><tr><td>5</td><td>Sven</td><td>Mortensen</td><td>5</td></tr><tr><td>6</td><td>Paul</td><td>Suurs</td><td>5</td></tr><tr><td>7</td><td>Russell</td><td>King</td><td>5</td></tr><tr><td>8</td><td>Maria</td><td>Cameron</td><td>5</td></tr><tr><td>9</td><td>Patricia</td><td>Doyle</td><td>5</td></tr></table>"
                    },
                    "metadata": {}
                },
                {
                    "output_type": "execute_result",
                    "execution_count": 5,
                    "data": {
                        "application/vnd.dataresource+json": {
                            "schema": {
                                "fields": [
                                    {
                                        "name": "empid"
                                    },
                                    {
                                        "name": "dt"
                                    }
                                ]
                            },
                            "data": [
                                {
                                    "empid": "1",
                                    "dt": "2016-06-12 00:00:00.000"
                                },
                                {
                                    "empid": "1",
                                    "dt": "2016-06-13 00:00:00.000"
                                },
                                {
                                    "empid": "1",
                                    "dt": "2016-06-14 00:00:00.000"
                                },
                                {
                                    "empid": "1",
                                    "dt": "2016-06-15 00:00:00.000"
                                },
                                {
                                    "empid": "1",
                                    "dt": "2016-06-16 00:00:00.000"
                                },
                                {
                                    "empid": "2",
                                    "dt": "2016-06-12 00:00:00.000"
                                },
                                {
                                    "empid": "2",
                                    "dt": "2016-06-13 00:00:00.000"
                                },
                                {
                                    "empid": "2",
                                    "dt": "2016-06-14 00:00:00.000"
                                },
                                {
                                    "empid": "2",
                                    "dt": "2016-06-15 00:00:00.000"
                                },
                                {
                                    "empid": "2",
                                    "dt": "2016-06-16 00:00:00.000"
                                },
                                {
                                    "empid": "3",
                                    "dt": "2016-06-12 00:00:00.000"
                                },
                                {
                                    "empid": "3",
                                    "dt": "2016-06-13 00:00:00.000"
                                },
                                {
                                    "empid": "3",
                                    "dt": "2016-06-14 00:00:00.000"
                                },
                                {
                                    "empid": "3",
                                    "dt": "2016-06-15 00:00:00.000"
                                },
                                {
                                    "empid": "3",
                                    "dt": "2016-06-16 00:00:00.000"
                                },
                                {
                                    "empid": "4",
                                    "dt": "2016-06-12 00:00:00.000"
                                },
                                {
                                    "empid": "4",
                                    "dt": "2016-06-13 00:00:00.000"
                                },
                                {
                                    "empid": "4",
                                    "dt": "2016-06-14 00:00:00.000"
                                },
                                {
                                    "empid": "4",
                                    "dt": "2016-06-15 00:00:00.000"
                                },
                                {
                                    "empid": "4",
                                    "dt": "2016-06-16 00:00:00.000"
                                },
                                {
                                    "empid": "5",
                                    "dt": "2016-06-12 00:00:00.000"
                                },
                                {
                                    "empid": "5",
                                    "dt": "2016-06-13 00:00:00.000"
                                },
                                {
                                    "empid": "5",
                                    "dt": "2016-06-14 00:00:00.000"
                                },
                                {
                                    "empid": "5",
                                    "dt": "2016-06-15 00:00:00.000"
                                },
                                {
                                    "empid": "5",
                                    "dt": "2016-06-16 00:00:00.000"
                                },
                                {
                                    "empid": "6",
                                    "dt": "2016-06-12 00:00:00.000"
                                },
                                {
                                    "empid": "6",
                                    "dt": "2016-06-13 00:00:00.000"
                                },
                                {
                                    "empid": "6",
                                    "dt": "2016-06-14 00:00:00.000"
                                },
                                {
                                    "empid": "6",
                                    "dt": "2016-06-15 00:00:00.000"
                                },
                                {
                                    "empid": "6",
                                    "dt": "2016-06-16 00:00:00.000"
                                },
                                {
                                    "empid": "7",
                                    "dt": "2016-06-12 00:00:00.000"
                                },
                                {
                                    "empid": "7",
                                    "dt": "2016-06-13 00:00:00.000"
                                },
                                {
                                    "empid": "7",
                                    "dt": "2016-06-14 00:00:00.000"
                                },
                                {
                                    "empid": "7",
                                    "dt": "2016-06-15 00:00:00.000"
                                },
                                {
                                    "empid": "7",
                                    "dt": "2016-06-16 00:00:00.000"
                                },
                                {
                                    "empid": "8",
                                    "dt": "2016-06-12 00:00:00.000"
                                },
                                {
                                    "empid": "8",
                                    "dt": "2016-06-13 00:00:00.000"
                                },
                                {
                                    "empid": "8",
                                    "dt": "2016-06-14 00:00:00.000"
                                },
                                {
                                    "empid": "8",
                                    "dt": "2016-06-15 00:00:00.000"
                                },
                                {
                                    "empid": "8",
                                    "dt": "2016-06-16 00:00:00.000"
                                },
                                {
                                    "empid": "9",
                                    "dt": "2016-06-12 00:00:00.000"
                                },
                                {
                                    "empid": "9",
                                    "dt": "2016-06-13 00:00:00.000"
                                },
                                {
                                    "empid": "9",
                                    "dt": "2016-06-14 00:00:00.000"
                                },
                                {
                                    "empid": "9",
                                    "dt": "2016-06-15 00:00:00.000"
                                },
                                {
                                    "empid": "9",
                                    "dt": "2016-06-16 00:00:00.000"
                                }
                            ]
                        },
                        "text/html": "<table><tr><th>empid</th><th>dt</th></tr><tr><td>1</td><td>2016-06-12 00:00:00.000</td></tr><tr><td>1</td><td>2016-06-13 00:00:00.000</td></tr><tr><td>1</td><td>2016-06-14 00:00:00.000</td></tr><tr><td>1</td><td>2016-06-15 00:00:00.000</td></tr><tr><td>1</td><td>2016-06-16 00:00:00.000</td></tr><tr><td>2</td><td>2016-06-12 00:00:00.000</td></tr><tr><td>2</td><td>2016-06-13 00:00:00.000</td></tr><tr><td>2</td><td>2016-06-14 00:00:00.000</td></tr><tr><td>2</td><td>2016-06-15 00:00:00.000</td></tr><tr><td>2</td><td>2016-06-16 00:00:00.000</td></tr><tr><td>3</td><td>2016-06-12 00:00:00.000</td></tr><tr><td>3</td><td>2016-06-13 00:00:00.000</td></tr><tr><td>3</td><td>2016-06-14 00:00:00.000</td></tr><tr><td>3</td><td>2016-06-15 00:00:00.000</td></tr><tr><td>3</td><td>2016-06-16 00:00:00.000</td></tr><tr><td>4</td><td>2016-06-12 00:00:00.000</td></tr><tr><td>4</td><td>2016-06-13 00:00:00.000</td></tr><tr><td>4</td><td>2016-06-14 00:00:00.000</td></tr><tr><td>4</td><td>2016-06-15 00:00:00.000</td></tr><tr><td>4</td><td>2016-06-16 00:00:00.000</td></tr><tr><td>5</td><td>2016-06-12 00:00:00.000</td></tr><tr><td>5</td><td>2016-06-13 00:00:00.000</td></tr><tr><td>5</td><td>2016-06-14 00:00:00.000</td></tr><tr><td>5</td><td>2016-06-15 00:00:00.000</td></tr><tr><td>5</td><td>2016-06-16 00:00:00.000</td></tr><tr><td>6</td><td>2016-06-12 00:00:00.000</td></tr><tr><td>6</td><td>2016-06-13 00:00:00.000</td></tr><tr><td>6</td><td>2016-06-14 00:00:00.000</td></tr><tr><td>6</td><td>2016-06-15 00:00:00.000</td></tr><tr><td>6</td><td>2016-06-16 00:00:00.000</td></tr><tr><td>7</td><td>2016-06-12 00:00:00.000</td></tr><tr><td>7</td><td>2016-06-13 00:00:00.000</td></tr><tr><td>7</td><td>2016-06-14 00:00:00.000</td></tr><tr><td>7</td><td>2016-06-15 00:00:00.000</td></tr><tr><td>7</td><td>2016-06-16 00:00:00.000</td></tr><tr><td>8</td><td>2016-06-12 00:00:00.000</td></tr><tr><td>8</td><td>2016-06-13 00:00:00.000</td></tr><tr><td>8</td><td>2016-06-14 00:00:00.000</td></tr><tr><td>8</td><td>2016-06-15 00:00:00.000</td></tr><tr><td>8</td><td>2016-06-16 00:00:00.000</td></tr><tr><td>9</td><td>2016-06-12 00:00:00.000</td></tr><tr><td>9</td><td>2016-06-13 00:00:00.000</td></tr><tr><td>9</td><td>2016-06-14 00:00:00.000</td></tr><tr><td>9</td><td>2016-06-15 00:00:00.000</td></tr><tr><td>9</td><td>2016-06-16 00:00:00.000</td></tr></table>"
                    },
                    "metadata": {}
                }
            ],
            "execution_count": 5
        },
        {
            "cell_type": "markdown",
            "source": [
                "Question 2:"
            ],
            "metadata": {
                "azdata_cell_guid": "5e27e36e-0c52-47a8-a8e1-964d7afa7899"
            }
        },
        {
            "cell_type": "markdown",
            "source": [
                "Explain what�s wrong in the following query and provide a correct alternative"
            ],
            "metadata": {
                "azdata_cell_guid": "af372db9-a890-4dcb-a577-5b2d19509756"
            }
        },
        {
            "cell_type": "markdown",
            "source": [
                "SELECT Customers.custid, Customers.companyname, Orders.orderid, Orders.orderdate"
            ],
            "metadata": {
                "azdata_cell_guid": "d67c0fc2-33f4-473b-b346-26559c54638d"
            }
        },
        {
            "cell_type": "markdown",
            "source": [
                "FROM Sales.Customers AS C"
            ],
            "metadata": {
                "azdata_cell_guid": "b2ee42c9-81c0-46a2-a2f9-1063e0158ce2"
            }
        },
        {
            "cell_type": "markdown",
            "source": [
                "INNER JOIN Sales.Orders AS O"
            ],
            "metadata": {
                "azdata_cell_guid": "5bd81f14-8372-46c7-b4dc-66dd30a14712"
            }
        },
        {
            "cell_type": "markdown",
            "source": [
                "ON Customers.custid = Orders.custid;"
            ],
            "metadata": {
                "azdata_cell_guid": "8ee04bc8-5754-4a40-87b4-d951b236ac59"
            }
        },
        {
            "cell_type": "markdown",
            "source": [
                "Answer:"
            ],
            "metadata": {
                "azdata_cell_guid": "446c545a-06c4-43ee-89b4-2ba33c03219b"
            }
        },
        {
            "cell_type": "markdown",
            "source": [
                "When we see the customer table, the alias is \"C\". In the \"SELECT\" statement, it is trying to reference it as \"Customers\"."
            ],
            "metadata": {
                "azdata_cell_guid": "05d3612f-a957-4e27-9a4f-fb7692a02245"
            }
        },
        {
            "cell_type": "markdown",
            "source": [
                "Therefore we get a syntax error"
            ],
            "metadata": {
                "azdata_cell_guid": "14939e23-d6c3-4bf7-9119-440560654e3b"
            }
        },
        {
            "cell_type": "markdown",
            "source": [
                "To fix this, we can use the same alias \"C\" throughout this query"
            ],
            "metadata": {
                "azdata_cell_guid": "9eac3035-2f4b-42be-a537-fb99fd2900ad"
            }
        }
    ]
}