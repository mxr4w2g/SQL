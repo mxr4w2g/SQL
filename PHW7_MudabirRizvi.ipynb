{
    "cells": [
        {
            "cell_type": "code",
            "execution_count": 1,
            "metadata": {
                "azdata_cell_guid": "03f819ec-8f7c-4a93-b745-78f3fcc1248a",
                "language": "sql"
            },
            "outputs": [
                {
                    "data": {
                        "text/html": [
                            "(33 rows affected)"
                        ]
                    },
                    "metadata": {},
                    "output_type": "display_data"
                },
                {
                    "data": {
                        "text/html": [
                            "Total execution time: 00:00:00.006"
                        ]
                    },
                    "metadata": {},
                    "output_type": "display_data"
                },
                {
                    "data": {
                        "application/vnd.dataresource+json": {
                            "data": [
                                {
                                    "custid": "A",
                                    "empid": "3",
                                    "orderdate": "2020-08-02",
                                    "sumqty": "10"
                                },
                                {
                                    "custid": "A",
                                    "empid": "Null",
                                    "orderdate": "2020-08-02",
                                    "sumqty": "10"
                                },
                                {
                                    "custid": "A",
                                    "empid": "2",
                                    "orderdate": "2020-12-24",
                                    "sumqty": "12"
                                },
                                {
                                    "custid": "A",
                                    "empid": "Null",
                                    "orderdate": "2020-12-24",
                                    "sumqty": "12"
                                },
                                {
                                    "custid": "A",
                                    "empid": "2",
                                    "orderdate": "2021-01-09",
                                    "sumqty": "40"
                                },
                                {
                                    "custid": "A",
                                    "empid": "Null",
                                    "orderdate": "2021-01-09",
                                    "sumqty": "40"
                                },
                                {
                                    "custid": "A",
                                    "empid": "3",
                                    "orderdate": "2022-02-12",
                                    "sumqty": "10"
                                },
                                {
                                    "custid": "A",
                                    "empid": "Null",
                                    "orderdate": "2022-02-12",
                                    "sumqty": "10"
                                },
                                {
                                    "custid": "B",
                                    "empid": "1",
                                    "orderdate": "2020-12-24",
                                    "sumqty": "20"
                                },
                                {
                                    "custid": "B",
                                    "empid": "Null",
                                    "orderdate": "2020-12-24",
                                    "sumqty": "20"
                                },
                                {
                                    "custid": "B",
                                    "empid": "2",
                                    "orderdate": "2021-02-12",
                                    "sumqty": "12"
                                },
                                {
                                    "custid": "B",
                                    "empid": "Null",
                                    "orderdate": "2021-02-12",
                                    "sumqty": "12"
                                },
                                {
                                    "custid": "B",
                                    "empid": "2",
                                    "orderdate": "2022-04-18",
                                    "sumqty": "15"
                                },
                                {
                                    "custid": "B",
                                    "empid": "Null",
                                    "orderdate": "2022-04-18",
                                    "sumqty": "15"
                                },
                                {
                                    "custid": "C",
                                    "empid": "3",
                                    "orderdate": "2020-04-18",
                                    "sumqty": "22"
                                },
                                {
                                    "custid": "C",
                                    "empid": "Null",
                                    "orderdate": "2020-04-18",
                                    "sumqty": "22"
                                },
                                {
                                    "custid": "C",
                                    "empid": "1",
                                    "orderdate": "2021-01-18",
                                    "sumqty": "14"
                                },
                                {
                                    "custid": "C",
                                    "empid": "Null",
                                    "orderdate": "2021-01-18",
                                    "sumqty": "14"
                                },
                                {
                                    "custid": "C",
                                    "empid": "1",
                                    "orderdate": "2022-02-16",
                                    "sumqty": "20"
                                },
                                {
                                    "custid": "C",
                                    "empid": "Null",
                                    "orderdate": "2022-02-16",
                                    "sumqty": "20"
                                },
                                {
                                    "custid": "D",
                                    "empid": "3",
                                    "orderdate": "2022-09-07",
                                    "sumqty": "30"
                                },
                                {
                                    "custid": "D",
                                    "empid": "Null",
                                    "orderdate": "2022-09-07",
                                    "sumqty": "30"
                                },
                                {
                                    "custid": "Null",
                                    "empid": "3",
                                    "orderdate": "2020-04-18",
                                    "sumqty": "22"
                                },
                                {
                                    "custid": "Null",
                                    "empid": "3",
                                    "orderdate": "2020-08-02",
                                    "sumqty": "10"
                                },
                                {
                                    "custid": "Null",
                                    "empid": "1",
                                    "orderdate": "2020-12-24",
                                    "sumqty": "20"
                                },
                                {
                                    "custid": "Null",
                                    "empid": "2",
                                    "orderdate": "2020-12-24",
                                    "sumqty": "12"
                                },
                                {
                                    "custid": "Null",
                                    "empid": "2",
                                    "orderdate": "2021-01-09",
                                    "sumqty": "40"
                                },
                                {
                                    "custid": "Null",
                                    "empid": "1",
                                    "orderdate": "2021-01-18",
                                    "sumqty": "14"
                                },
                                {
                                    "custid": "Null",
                                    "empid": "2",
                                    "orderdate": "2021-02-12",
                                    "sumqty": "12"
                                },
                                {
                                    "custid": "Null",
                                    "empid": "3",
                                    "orderdate": "2022-02-12",
                                    "sumqty": "10"
                                },
                                {
                                    "custid": "Null",
                                    "empid": "1",
                                    "orderdate": "2022-02-16",
                                    "sumqty": "20"
                                },
                                {
                                    "custid": "Null",
                                    "empid": "2",
                                    "orderdate": "2022-04-18",
                                    "sumqty": "15"
                                },
                                {
                                    "custid": "Null",
                                    "empid": "3",
                                    "orderdate": "2022-09-07",
                                    "sumqty": "30"
                                }
                            ],
                            "schema": {
                                "fields": [
                                    {
                                        "name": "empid"
                                    },
                                    {
                                        "name": "custid"
                                    },
                                    {
                                        "name": "orderdate"
                                    },
                                    {
                                        "name": "sumqty"
                                    }
                                ]
                            }
                        },
                        "text/html": [
                            "<table><tr><th>empid</th><th>custid</th><th>orderdate</th><th>sumqty</th></tr><tr><td>3</td><td>A</td><td>2020-08-02</td><td>10</td></tr><tr><td>Null</td><td>A</td><td>2020-08-02</td><td>10</td></tr><tr><td>2</td><td>A</td><td>2020-12-24</td><td>12</td></tr><tr><td>Null</td><td>A</td><td>2020-12-24</td><td>12</td></tr><tr><td>2</td><td>A</td><td>2021-01-09</td><td>40</td></tr><tr><td>Null</td><td>A</td><td>2021-01-09</td><td>40</td></tr><tr><td>3</td><td>A</td><td>2022-02-12</td><td>10</td></tr><tr><td>Null</td><td>A</td><td>2022-02-12</td><td>10</td></tr><tr><td>1</td><td>B</td><td>2020-12-24</td><td>20</td></tr><tr><td>Null</td><td>B</td><td>2020-12-24</td><td>20</td></tr><tr><td>2</td><td>B</td><td>2021-02-12</td><td>12</td></tr><tr><td>Null</td><td>B</td><td>2021-02-12</td><td>12</td></tr><tr><td>2</td><td>B</td><td>2022-04-18</td><td>15</td></tr><tr><td>Null</td><td>B</td><td>2022-04-18</td><td>15</td></tr><tr><td>3</td><td>C</td><td>2020-04-18</td><td>22</td></tr><tr><td>Null</td><td>C</td><td>2020-04-18</td><td>22</td></tr><tr><td>1</td><td>C</td><td>2021-01-18</td><td>14</td></tr><tr><td>Null</td><td>C</td><td>2021-01-18</td><td>14</td></tr><tr><td>1</td><td>C</td><td>2022-02-16</td><td>20</td></tr><tr><td>Null</td><td>C</td><td>2022-02-16</td><td>20</td></tr><tr><td>3</td><td>D</td><td>2022-09-07</td><td>30</td></tr><tr><td>Null</td><td>D</td><td>2022-09-07</td><td>30</td></tr><tr><td>3</td><td>Null</td><td>2020-04-18</td><td>22</td></tr><tr><td>3</td><td>Null</td><td>2020-08-02</td><td>10</td></tr><tr><td>1</td><td>Null</td><td>2020-12-24</td><td>20</td></tr><tr><td>2</td><td>Null</td><td>2020-12-24</td><td>12</td></tr><tr><td>2</td><td>Null</td><td>2021-01-09</td><td>40</td></tr><tr><td>1</td><td>Null</td><td>2021-01-18</td><td>14</td></tr><tr><td>2</td><td>Null</td><td>2021-02-12</td><td>12</td></tr><tr><td>3</td><td>Null</td><td>2022-02-12</td><td>10</td></tr><tr><td>1</td><td>Null</td><td>2022-02-16</td><td>20</td></tr><tr><td>2</td><td>Null</td><td>2022-04-18</td><td>15</td></tr><tr><td>3</td><td>Null</td><td>2022-09-07</td><td>30</td></tr></table>"
                        ]
                    },
                    "execution_count": 1,
                    "metadata": {},
                    "output_type": "execute_result"
                }
            ],
            "source": [
                "--Question 6\n",
                "-- Write a query against the dbo.Orders table that returns the \n",
                "-- total quantities for each:\n",
                "-- employee, customer, and order year\n",
                "-- employee and order year\n",
                "-- customer and order year\n",
                "-- Include a result column in the output that uniquely identifies \n",
                "-- the grouping set with which the current row is associated\n",
                "-- Tables involved: TSQLV4 database, dbo.Orders table\n",
                "\n",
                "use TSQLV4\n",
                "\n",
                "SELECT\n",
                "    CASE\n",
                "\n",
                "        WHEN GROUPING(empid) = 1 THEN 'Null'\n",
                "        ELSE CAST(empid AS VARCHAR(255))\n",
                "    END AS empid,\n",
                "    CASE\n",
                "        WHEN GROUPING(custid) = 1 THEN 'Null'\n",
                "        ELSE CAST(custid AS VARCHAR(255))\n",
                "    END AS custid,\n",
                "    CASE\n",
                "        WHEN GROUPING(orderdate) = 1 THEN 'Null'\n",
                "        ELSE CAST(orderdate AS VARCHAR(255))\n",
                "    END AS orderdate,\n",
                "    SUM(qty) AS sumqty\n",
                "FROM dbo.Orders\n",
                "GROUP BY GROUPING SETS (\n",
                "    (empid, custid, orderdate),\n",
                "    (empid, orderdate),\n",
                "    (custid, orderdate)\n",
                ");\n"
            ]
        }
    ],
    "metadata": {
        "kernelspec": {
            "display_name": "SQL",
            "language": "sql",
            "name": "SQL"
        },
        "language_info": {
            "name": "sql",
            "version": ""
        }
    },
    "nbformat": 4,
    "nbformat_minor": 2
}
